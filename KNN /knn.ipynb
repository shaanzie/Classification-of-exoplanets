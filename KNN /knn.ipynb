{
 "cells": [
  {
   "cell_type": "code",
   "execution_count": 2,
   "metadata": {},
   "outputs": [],
   "source": [
    "import pandas as pd\n",
    "from sklearn.neighbors import KNeighborsClassifier\n",
    "from sklearn.model_selection import train_test_split"
   ]
  },
  {
   "cell_type": "code",
   "execution_count": 3,
   "metadata": {},
   "outputs": [],
   "source": [
    "df=pd.read_csv('new_data.csv')"
   ]
  },
  {
   "cell_type": "code",
   "execution_count": 4,
   "metadata": {},
   "outputs": [],
   "source": [
    "# print (df.head())"
   ]
  },
  {
   "cell_type": "code",
   "execution_count": 5,
   "metadata": {},
   "outputs": [],
   "source": [
    "y = df['P. Habitable Class'] #label\n",
    "X = df.drop(['P. Mass Class', 'P. Zone Class', 'P. Composition Class', 'P. Atmosphere Class', 'P. Name'], axis = 1)\n",
    "X= X.select_dtypes(['number'])\n",
    "# X is features"
   ]
  },
  {
   "cell_type": "code",
   "execution_count": 6,
   "metadata": {},
   "outputs": [],
   "source": [
    " X_train, X_test, y_train, y_test = train_test_split(X,y, test_size=0.20)"
   ]
  },
  {
   "cell_type": "code",
   "execution_count": 7,
   "metadata": {},
   "outputs": [
    {
     "name": "stdout",
     "output_type": "stream",
     "text": [
      "(3100, 51)\n",
      "(775, 51)\n"
     ]
    }
   ],
   "source": [
    "# print(\"\\nX_train:\\n\")\n",
    "# print(X_train.head())\n",
    "print(X_train.shape)\n",
    "print(X_test.shape)"
   ]
  },
  {
   "cell_type": "code",
   "execution_count": 15,
   "metadata": {},
   "outputs": [
    {
     "name": "stdout",
     "output_type": "stream",
     "text": [
      "[0.9819354838709677, 0.9806451612903225, 0.9806451612903225, 0.9806451612903225, 0.9806451612903225, 0.983225806451613, 0.983225806451613, 0.983225806451613, 0.9819354838709677, 0.9819354838709677, 0.9819354838709677, 0.9819354838709677, 0.9819354838709677]\n"
     ]
    }
   ],
   "source": [
    "from sklearn import metrics\n",
    "k_range = range(3,16)\n",
    "scores_list = []\n",
    "for k in k_range:\n",
    "    knn = KNeighborsClassifier(n_neighbors=k)\n",
    "    knn_results = knn.fit(X_train,y_train)\n",
    "    y_pred = knn_results.predict(X_test)\n",
    "    scores_list.append(metrics.accuracy_score(y_test, y_pred))\n",
    "    \n",
    "print(scores_list)"
   ]
  },
  {
   "cell_type": "code",
   "execution_count": null,
   "metadata": {},
   "outputs": [],
   "source": []
  }
 ],
 "metadata": {
  "kernelspec": {
   "display_name": "Python 3",
   "language": "python",
   "name": "python3"
  },
  "language_info": {
   "codemirror_mode": {
    "name": "ipython",
    "version": 3
   },
   "file_extension": ".py",
   "mimetype": "text/x-python",
   "name": "python",
   "nbconvert_exporter": "python",
   "pygments_lexer": "ipython3",
   "version": "3.7.4"
  }
 },
 "nbformat": 4,
 "nbformat_minor": 2
}
