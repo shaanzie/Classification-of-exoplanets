{
 "cells": [
  {
   "cell_type": "code",
   "execution_count": 1,
   "metadata": {},
   "outputs": [],
   "source": [
    "import pandas as pd\n",
    "from sklearn.naive_bayes import GaussianNB, BernoulliNB\n",
    "from sklearn.model_selection import train_test_split"
   ]
  },
  {
   "cell_type": "code",
   "execution_count": 2,
   "metadata": {},
   "outputs": [],
   "source": [
    "df = pd.read_csv('new_data.csv')"
   ]
  },
  {
   "cell_type": "code",
   "execution_count": 3,
   "metadata": {},
   "outputs": [],
   "source": [
    "data = df.drop(['P. Mass Class', 'P. Zone Class', 'P. Composition Class', 'P. Atmosphere Class', 'P. Name'], axis = 1)\n",
    "y = df['P. Habitable Class']\n",
    "data = data.select_dtypes(['number'])"
   ]
  },
  {
   "cell_type": "code",
   "execution_count": 4,
   "metadata": {},
   "outputs": [],
   "source": [
    "X_train, X_test, y_train, y_test = train_test_split(data, y, test_size=0.2)"
   ]
  },
  {
   "cell_type": "code",
   "execution_count": 5,
   "metadata": {},
   "outputs": [
    {
     "name": "stdout",
     "output_type": "stream",
     "text": [
      "0.983225806451613\n"
     ]
    }
   ],
   "source": [
    "bnb = BernoulliNB().fit(X_train, y_train) \n",
    "\n",
    "bnb_predictions = bnb.predict(X_test) \n",
    "  \n",
    "# accuracy on X_test \n",
    "accuracy = bnb.score(X_test, y_test) \n",
    "print(accuracy)"
   ]
  },
  {
   "cell_type": "code",
   "execution_count": 6,
   "metadata": {},
   "outputs": [],
   "source": [
    "data = df.drop(['P. Habitable Class', 'P. Zone Class', 'P. Composition Class', 'P. Atmosphere Class', 'P. Name'], axis = 1)\n",
    "y = df['P. Mass Class']\n",
    "data = data.select_dtypes(['number'])"
   ]
  },
  {
   "cell_type": "code",
   "execution_count": 7,
   "metadata": {},
   "outputs": [],
   "source": [
    "X_train, X_test, y_train, y_test = train_test_split(data, y, test_size=0.2)"
   ]
  },
  {
   "cell_type": "code",
   "execution_count": 8,
   "metadata": {},
   "outputs": [
    {
     "name": "stdout",
     "output_type": "stream",
     "text": [
      "0.7187096774193549\n"
     ]
    }
   ],
   "source": [
    "bnb = BernoulliNB().fit(X_train, y_train) \n",
    "\n",
    "bnb_predictions = bnb.predict(X_test) \n",
    "  \n",
    "# accuracy on X_test \n",
    "accuracy = bnb.score(X_test, y_test) \n",
    "print(accuracy)"
   ]
  },
  {
   "cell_type": "code",
   "execution_count": 9,
   "metadata": {},
   "outputs": [],
   "source": [
    "data = df.drop(['P. Habitable Class', 'P. Mass Class', 'P. Composition Class', 'P. Atmosphere Class', 'P. Name'], axis = 1)\n",
    "y = df['P. Zone Class']\n",
    "data = data.select_dtypes(['number'])"
   ]
  },
  {
   "cell_type": "code",
   "execution_count": 10,
   "metadata": {},
   "outputs": [],
   "source": [
    "X_train, X_test, y_train, y_test = train_test_split(data, y, test_size=0.2)"
   ]
  },
  {
   "cell_type": "code",
   "execution_count": 11,
   "metadata": {},
   "outputs": [
    {
     "name": "stdout",
     "output_type": "stream",
     "text": [
      "0.9638709677419355\n"
     ]
    }
   ],
   "source": [
    "bnb = BernoulliNB().fit(X_train, y_train) \n",
    "\n",
    "bnb_predictions = bnb.predict(X_test) \n",
    "  \n",
    "# accuracy on X_test \n",
    "accuracy = bnb.score(X_test, y_test) \n",
    "print(accuracy)"
   ]
  },
  {
   "cell_type": "code",
   "execution_count": 12,
   "metadata": {},
   "outputs": [],
   "source": [
    "data = df.drop(['P. Habitable Class', 'P. Mass Class', 'P. Zone Class', 'P. Atmosphere Class', 'P. Name'], axis = 1)\n",
    "y = df['P. Composition Class']\n",
    "data = data.select_dtypes(['number'])"
   ]
  },
  {
   "cell_type": "code",
   "execution_count": 13,
   "metadata": {},
   "outputs": [],
   "source": [
    "X_train, X_test, y_train, y_test = train_test_split(data, y, test_size=0.2)"
   ]
  },
  {
   "cell_type": "code",
   "execution_count": 14,
   "metadata": {},
   "outputs": [
    {
     "name": "stdout",
     "output_type": "stream",
     "text": [
      "0.984516129032258\n"
     ]
    }
   ],
   "source": [
    "bnb = BernoulliNB().fit(X_train, y_train) \n",
    "\n",
    "bnb_predictions = bnb.predict(X_test) \n",
    "  \n",
    "# accuracy on X_test \n",
    "accuracy = bnb.score(X_test, y_test) \n",
    "print(accuracy)"
   ]
  },
  {
   "cell_type": "code",
   "execution_count": 15,
   "metadata": {},
   "outputs": [],
   "source": [
    "data = df.drop(['P. Habitable Class', 'P. Mass Class', 'P. Zone Class', 'P. Composition Class', 'P. Name'], axis = 1)\n",
    "y = df['P. Atmosphere Class']\n",
    "data = data.select_dtypes(['number'])"
   ]
  },
  {
   "cell_type": "code",
   "execution_count": 16,
   "metadata": {},
   "outputs": [],
   "source": [
    "X_train, X_test, y_train, y_test = train_test_split(data, y, test_size=0.2)"
   ]
  },
  {
   "cell_type": "code",
   "execution_count": 17,
   "metadata": {},
   "outputs": [
    {
     "name": "stdout",
     "output_type": "stream",
     "text": [
      "0.6954838709677419\n"
     ]
    }
   ],
   "source": [
    "bnb = BernoulliNB().fit(X_train, y_train) \n",
    "\n",
    "bnb_predictions = bnb.predict(X_test) \n",
    "  \n",
    "# accuracy on X_test \n",
    "accuracy = bnb.score(X_test, y_test) \n",
    "print(accuracy)"
   ]
  }
 ],
 "metadata": {
  "kernelspec": {
   "display_name": "Python 3",
   "language": "python",
   "name": "python3"
  },
  "language_info": {
   "codemirror_mode": {
    "name": "ipython",
    "version": 3
   },
   "file_extension": ".py",
   "mimetype": "text/x-python",
   "name": "python",
   "nbconvert_exporter": "python",
   "pygments_lexer": "ipython3",
   "version": "3.6.8"
  }
 },
 "nbformat": 4,
 "nbformat_minor": 2
}
