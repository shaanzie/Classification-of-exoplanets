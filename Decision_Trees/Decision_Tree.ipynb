{
 "cells": [
  {
   "cell_type": "code",
   "execution_count": 145,
   "metadata": {},
   "outputs": [],
   "source": [
    "import pandas as pd\n",
    "import numpy as np\n",
    "from pprint import pprint"
   ]
  },
  {
   "cell_type": "code",
   "execution_count": 176,
   "metadata": {},
   "outputs": [],
   "source": [
    "dataset=pd.read_csv('new_data.csv')"
   ]
  },
  {
   "cell_type": "code",
   "execution_count": 178,
   "metadata": {},
   "outputs": [],
   "source": [
    "dataset=dataset.drop(['Unnamed: 0','P. Composition Class','P. Habitable Class','P. Mass Class'],axis=1)"
   ]
  },
  {
   "cell_type": "code",
   "execution_count": 179,
   "metadata": {},
   "outputs": [],
   "source": [
    "def entropy(target_col):\n",
    "    elements,counts = np.unique(target_col,return_counts = True)\n",
    "    entropy = np.sum([(-counts[i]/np.sum(counts))*np.log2(counts[i]/np.sum(counts)) for i in range(len(elements))])\n",
    "    return entropy"
   ]
  },
  {
   "cell_type": "code",
   "execution_count": 180,
   "metadata": {},
   "outputs": [],
   "source": [
    "def InfoGain(data,split_attribute_name,target_name=\"P. Zone Class\"): \n",
    "    #Calculate the entropy of the total dataset\n",
    "    total_entropy = entropy(data[target_name])\n",
    "    #Calculate the values and the corresponding counts for the split attribute \n",
    "    vals,counts= np.unique(data[split_attribute_name],return_counts=True)\n",
    "    #Calculate the weighted entropy\n",
    "    Weighted_Entropy = np.sum([(counts[i]/np.sum(counts))*entropy(data.where(data[split_attribute_name]==vals[i]).dropna()[target_name]) for i in range(len(vals))])\n",
    "    #Calculate the information gain\n",
    "    Information_Gain = total_entropy - Weighted_Entropy\n",
    "    return Information_Gain"
   ]
  },
  {
   "cell_type": "code",
   "execution_count": 181,
   "metadata": {},
   "outputs": [],
   "source": [
    "def ID3(data,originaldata,features,target_attribute_name=\"P. Zone Class\",parent_node_class = None):\n",
    "    \n",
    "    #If all target_values have the same value, return this value\n",
    "    if len(np.unique(data[target_attribute_name])) <= 1:\n",
    "        return np.unique(data[target_attribute_name])[0]\n",
    "    \n",
    "    #If the dataset is empty, return the mode target feature value in the original dataset\n",
    "    elif len(data)==0:\n",
    "        return np.unique(originaldata[target_attribute_name])[np.argmax(np.unique(originaldata[target_attribute_name],return_counts=True)[1])]\n",
    "    \n",
    "    #If the feature space is empty, return the mode target feature value of the direct parent node --> Note that\n",
    "    #the direct parent node is that node which has called the current run of the ID3 algorithm and hence\n",
    "    #the mode target feature value is stored in the parent_node_class variable.\n",
    "    \n",
    "    elif len(features) ==0:\n",
    "        return parent_node_class\n",
    "    \n",
    "    #If none of the above holds true, grow the tree!\n",
    "    \n",
    "    else:\n",
    "        #Set the default value for this node --> The mode target feature value of the current node\n",
    "        parent_node_class = np.unique(data[target_attribute_name])[np.argmax(np.unique(data[target_attribute_name],return_counts=True)[1])]\n",
    "        \n",
    "        #Select the feature which best splits the dataset\n",
    "        item_values = [InfoGain(data,feature,target_attribute_name) for feature in features] #Return the information gain values for the features in the dataset\n",
    "        best_feature_index = np.argmax(item_values)\n",
    "        best_feature = features[best_feature_index]\n",
    "        \n",
    "        #Create the tree structure. The root gets the name of the feature (best_feature) with the maximum information\n",
    "        #gain in the first run\n",
    "        tree = {best_feature:{}}\n",
    "        \n",
    "        \n",
    "        #Remove the feature with the best inforamtion gain from the feature space\n",
    "        features = [i for i in features if i != best_feature]\n",
    "        \n",
    "        #Grow a branch under the root node for each possible value of the root node feature\n",
    "        \n",
    "        for value in np.unique(data[best_feature]):\n",
    "            value = value\n",
    "            #Split the dataset along the value of the feature with the largest information gain and therwith create sub_datasets\n",
    "            sub_data = data.where(data[best_feature] == value).dropna()\n",
    "            \n",
    "            #Call the ID3 algorithm for each of those sub_datasets with the new parameters --> Here the recursion comes in!\n",
    "            subtree = ID3(sub_data,dataset,features,target_attribute_name,parent_node_class)\n",
    "            \n",
    "            #Add the sub tree, grown from the sub_dataset to the tree under the root node\n",
    "            tree[best_feature][value] = subtree\n",
    "            \n",
    "        return(tree)    \n",
    "                "
   ]
  },
  {
   "cell_type": "code",
   "execution_count": 182,
   "metadata": {},
   "outputs": [],
   "source": [
    "def predict(query,tree,default = 1):\n",
    "    #1.\n",
    "    for key in list(query.keys()):\n",
    "        if key in list(tree.keys()):\n",
    "            #2.\n",
    "            try:\n",
    "                result = tree[key][query[key]] \n",
    "            except:\n",
    "                return default\n",
    "  \n",
    "            #3.\n",
    "            result = tree[key][query[key]]\n",
    "            #4.\n",
    "            if isinstance(result,dict):\n",
    "                return predict(query,result)\n",
    "            else:\n",
    "                return result"
   ]
  },
  {
   "cell_type": "code",
   "execution_count": 183,
   "metadata": {},
   "outputs": [
    {
     "data": {
      "text/plain": [
       "'\\nTrain the tree, Print the tree and predict the accuracy\\n'"
      ]
     },
     "execution_count": 183,
     "metadata": {},
     "output_type": "execute_result"
    }
   ],
   "source": [
    "def train_test_split(dataset):\n",
    "    training_data = dataset.iloc[:80].reset_index(drop=True)#We drop the index respectively relabel the index\n",
    "    #starting form 0, because we do not want to run into errors regarding the row labels / indexes\n",
    "    testing_data = dataset.iloc[80:].reset_index(drop=True)\n",
    "    return training_data,testing_data\n",
    "training_data = train_test_split(dataset)[0]\n",
    "testing_data = train_test_split(dataset)[1] \n",
    "def test(data,tree):\n",
    "    #Create new query instances by simply removing the target feature column from the original dataset and \n",
    "    #convert it to a dictionary\n",
    "    queries = data.iloc[:,:-1].to_dict(orient = \"records\")\n",
    "    \n",
    "    #Create a empty DataFrame in whose columns the prediction of the tree are stored\n",
    "    predicted = pd.DataFrame(columns=[\"predicted\"]) \n",
    "    \n",
    "    #Calculate the prediction accuracy\n",
    "    for i in range(len(data)):\n",
    "        predicted.loc[i,\"predicted\"] = predict(queries[i],tree,1.0) \n",
    "    print('The prediction accuracy is: ',(np.sum(predicted[\"predicted\"] == data[\"P. Zone Class\"])/len(data))*100,'%')\n",
    "    "
   ]
  },
  {
   "cell_type": "code",
   "execution_count": 184,
   "metadata": {
    "scrolled": true
   },
   "outputs": [
    {
     "name": "stdout",
     "output_type": "stream",
     "text": [
      "{'P. Name': {'11 Com b': 2.0,\n",
      "             '11 Oph b': 1.0,\n",
      "             '11 UMi b': 2.0,\n",
      "             '14 And b': 2.0,\n",
      "             '14 Her b': 1.0,\n",
      "             '16 Cyg B b': 1.0,\n",
      "             '18 Del b': 2.0,\n",
      "             '1RXS 1609 b': 1.0,\n",
      "             '1SWASP J1407 b': 1.0,\n",
      "             '24 Boo b': 2.0,\n",
      "             '24 Sex b': 2.0,\n",
      "             '24 Sex c': 2.0,\n",
      "             '2M 0103-55(AB) b': 1.0,\n",
      "             '2M 0122-24 b': 1.0,\n",
      "             '2M 0219-39 b': 1.0,\n",
      "             '2M 0441+23 b': 1.0,\n",
      "             '2M 0746+20 b': 1.0,\n",
      "             '2M 1207-39 b': 1.0,\n",
      "             '2M 1938+46 b': 1.0,\n",
      "             '2M 2140+16 b': 1.0,\n",
      "             '2M 2206-20 b': 1.0,\n",
      "             '2M 2236+4751 b': 1.0,\n",
      "             '2M J2126-81 b': 1.0,\n",
      "             '2MASS J11193254 AB b': 0.0,\n",
      "             '2MASS J1450-7841 Ab': 1.0,\n",
      "             '2MASS J1450-7841 Bb': 1.0,\n",
      "             '2MASS J2250+2325 b': 0.0,\n",
      "             '30 Ari B b': 2.0,\n",
      "             '38 Vir b': 3.0,\n",
      "             '4 Uma b': 2.0,\n",
      "             '42 Dra b': 2.0,\n",
      "             '47 Uma b': 3.0,\n",
      "             '47 Uma c': 1.0,\n",
      "             '47 Uma d': 1.0,\n",
      "             '51 Eri b': 1.0,\n",
      "             '51 Peg b': 2.0,\n",
      "             '55 Cnc b': 2.0,\n",
      "             '55 Cnc c': 2.0,\n",
      "             '55 Cnc d': 1.0,\n",
      "             '55 Cnc e': 2.0,\n",
      "             '55 Cnc f': 3.0,\n",
      "             '6 Lyn b': 2.0,\n",
      "             '61 Vir b': 2.0,\n",
      "             '61 Vir c': 2.0,\n",
      "             '61 Vir d': 2.0,\n",
      "             '7 CMa b': 3.0,\n",
      "             '70 Vir b': 2.0,\n",
      "             '75 Cet b': 2.0,\n",
      "             '8 Umi b': 2.0,\n",
      "             '81 Cet b': 2.0,\n",
      "             '91 Aqr b': 2.0,\n",
      "             'AB Pic b': 1.0,\n",
      "             'AS 205 A b': 2.0,\n",
      "             'Aldebaran b': 2.0,\n",
      "             'BD+03 2562 b': 2.0,\n",
      "             'BD+14 4559 b': 3.0,\n",
      "             'BD+15 2375 b': 2.0,\n",
      "             'BD+15 2940 b': 2.0,\n",
      "             'BD+20 1790 b': 2.0,\n",
      "             'BD+20 2457 b': 2.0,\n",
      "             'BD+20 2457 c': 3.0,\n",
      "             'BD+20 274 c': 2.0,\n",
      "             'BD+20 594 b': 2.0,\n",
      "             'BD+24 4697 b': 3.0,\n",
      "             'BD+26 1888 b': 1.0,\n",
      "             'BD+48 738 b': 2.0,\n",
      "             'BD+49 828 b': 2.0,\n",
      "             'BD-06 1339 b': 2.0,\n",
      "             'BD-06 1339 c': 2.0,\n",
      "             'BD-06 1339 d': 3.0,\n",
      "             'BD-08 2823 b': 2.0,\n",
      "             'BD-08 2823 c': 3.0,\n",
      "             'BD-10 3166 b': 2.0,\n",
      "             'BD-11 4672 b': 1.0,\n",
      "             'BD-17 63 b': 1.0,\n",
      "             'alf Ari b': 2.0,\n",
      "             'alf Cen B b': 2.0,\n",
      "             'beta Cir b': 1.0,\n",
      "             'beta Cnc b': 2.0,\n",
      "             'beta Pic b': 1.0}}\n",
      "The prediction accuracy is:  8.353096179183135 %\n"
     ]
    }
   ],
   "source": [
    "tree = ID3(training_data,training_data,training_data.columns[:-1])\n",
    "pprint(tree)\n",
    "test(testing_data,tree)"
   ]
  },
  {
   "cell_type": "code",
   "execution_count": null,
   "metadata": {},
   "outputs": [],
   "source": []
  }
 ],
 "metadata": {
  "kernelspec": {
   "display_name": "Python 3",
   "language": "python",
   "name": "python3"
  },
  "language_info": {
   "codemirror_mode": {
    "name": "ipython",
    "version": 3
   },
   "file_extension": ".py",
   "mimetype": "text/x-python",
   "name": "python",
   "nbconvert_exporter": "python",
   "pygments_lexer": "ipython3",
   "version": "3.7.3"
  }
 },
 "nbformat": 4,
 "nbformat_minor": 2
}
